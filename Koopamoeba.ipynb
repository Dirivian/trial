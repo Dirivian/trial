{
 "cells": [
  {
   "cell_type": "code",
   "execution_count": 29,
   "metadata": {},
   "outputs": [],
   "source": [
    "from numpy import zeros, sin, cos, asarray, dot, empty, amax, ones, concatenate, linspace, arange\n",
    "from random import seed, uniform\n",
    "from scipy import linalg, io\n",
    "from math import pi\n",
    "from scipy.integrate import odeint\n",
    "from scipy.io import loadmat, savemat\n",
    "from matplotlib.pyplot import *\n",
    "from scipy.special import factorial\n",
    "import numpy as np\n",
    "from scipy.linalg import expm, logm"
   ]
  },
  {
   "cell_type": "code",
   "execution_count": 17,
   "metadata": {},
   "outputs": [],
   "source": [
    "a_21, a_31, a_32, a_41, a_42, a_43, b_1, b_2, b_3, b_4 = [ 5.93529782e-02 , 1.38537148e+00 , 0 , 1.33615916e+00,0,  0, -8.15929805e+00,  9.21037609e+00, 4.38612573e-01, -4.89690613e-01]\n",
    "c_2 = a_21\n",
    "c_3 = a_31 + a_32\n",
    "c_4 = a_41 + a_42 + a_43\n",
    "\n",
    "def hod_f(f,y0):\n",
    "    t = 1 # doesn't matter for this\n",
    "    dt = 0.01\n",
    "    k1 = f(y0, t)\n",
    "    k2 = f(y0+ a_21*dt*k1, t + c_2*dt)\n",
    "    k3 = f(y0+ dt*(a_31*k1 + a_32*k2), t + c_3*dt)\n",
    "    k4 = f(y0+ dt*(a_41*k1 + a_42*k2 + a_43*k3), t + c_4*dt)\n",
    "    return 2*((b_1-1)*k1 + b_2*k2 + b_3*k3 + b_4*k4 )/dt\n",
    "\n",
    "####### System parameters\n",
    "\n",
    "def nonlin_eq(y,t):\n",
    "    return np.array([y[0] +0.5*y[0]**2, y[1]])\n",
    "\n",
    "ts = 0.2 \n",
    "# Sample states\n",
    "s0list = []\n",
    "snlist = []\n",
    "for i in range(10):\n",
    "    s0 = [uniform(0, 1), uniform(0, 1)]\n",
    "# Simulate system forward\n",
    "    sn = odeint(lin_eq, s0, [0, ts])\n",
    "    s0list += [s0]\n",
    "    snlist += [sn[-1]]"
   ]
  },
  {
   "cell_type": "code",
   "execution_count": 18,
   "metadata": {},
   "outputs": [
    {
     "data": {
      "text/plain": [
       "[array([1.1601011 , 0.86867177]),\n",
       " array([0.05385249, 0.05389071]),\n",
       " array([1.12864457, 0.50474356]),\n",
       " array([0.66761488, 0.3305527 ]),\n",
       " array([0.38053818, 0.35193916]),\n",
       " array([1.31014897, 1.00409509]),\n",
       " array([1.08578588, 0.99850823]),\n",
       " array([0.45606721, 1.07009895]),\n",
       " array([1.353103  , 0.94465754]),\n",
       " array([1.08495467, 0.60222132])]"
      ]
     },
     "execution_count": 18,
     "metadata": {},
     "output_type": "execute_result"
    }
   ],
   "source": [
    "snlist"
   ]
  },
  {
   "cell_type": "code",
   "execution_count": 22,
   "metadata": {},
   "outputs": [],
   "source": [
    "psi_0 = np.array(s0list).T\n",
    "psi_n = np.array(snlist).T"
   ]
  },
  {
   "cell_type": "code",
   "execution_count": 23,
   "metadata": {},
   "outputs": [],
   "source": [
    "P = np.dot(psi_n, np.linalg.pinv(psi_0))"
   ]
  },
  {
   "cell_type": "code",
   "execution_count": 33,
   "metadata": {},
   "outputs": [
    {
     "data": {
      "text/plain": [
       "array([[ 5.68065340e-01, -1.09856692e+00],\n",
       "       [-9.99999993e-01, -1.33318020e-08]])"
      ]
     },
     "execution_count": 33,
     "metadata": {},
     "output_type": "execute_result"
    }
   ],
   "source": [
    "logm(P)/ts-np.eye(1)"
   ]
  },
  {
   "cell_type": "code",
   "execution_count": 3,
   "metadata": {},
   "outputs": [],
   "source": [
    "Samples = 10000 # Number of random initial conditions for both training and testing data\n",
    "ts = 0.02 # time spacing between training state measurements\n",
    "tFinal = 0.3 # time horizon --- used in measuring error\n",
    "\n",
    "NKoopman = 4 # Number of basis functions (keep inside [2,4])\n",
    "Nstates = 2 # Number of system states\n",
    "Ncontrol = 1 # Number of system inputs\n",
    "\n",
    "timeSteps = round(tFinal/ts)+1\n",
    "\n",
    "\n",
    "\n",
    "def A_and_G(s_1, s_2): # Uses measurements s(t_k) & s(t_{k+1}) to calculate A and G\n",
    "    A = np.outer(psi_RK(s_2), psi_RK(s_1).T)\n",
    "    G = np.outer(psi_RK(s_1), psi_RK(s_1).T)\n",
    "    return A, G\n",
    "\n",
    "def new_function_error(n,t): # error bound of an arbitrary function f using its n derivatives at time t \n",
    "    total_error = t**(n+1)/factorial(n+1)\n",
    "    return total_error"
   ]
  },
  {
   "cell_type": "code",
   "execution_count": 4,
   "metadata": {},
   "outputs": [
    {
     "name": "stdout",
     "output_type": "stream",
     "text": [
      "The identified Koopman operator is \n",
      " [[ 9.99999466e-01  1.99985743e-02  2.00322030e-04  1.40623977e-06]\n",
      " [-1.08554237e-04  9.99711243e-01  2.00640448e-02  2.14940817e-04]\n",
      " [-1.64512104e-02 -4.45957850e-02  1.00961658e+00  2.23268773e-02]\n",
      " [-1.68165533e+00 -4.72750387e+00  9.63999355e-01  1.25047195e+00]]\n",
      "Max local errors in theta: 0.00000 and dtheta: 0.00091 \n"
     ]
    }
   ],
   "source": [
    "\n",
    "\n",
    "# Samples = Number_of_Samples\n",
    "A = zeros((NKoopman, NKoopman))\n",
    "G = zeros((NKoopman, NKoopman))\n",
    "\n",
    "Ps0_list = empty((Samples,NKoopman))\n",
    "Psi_list = empty((Samples,NKoopman))\n",
    "\n",
    "for i in range (Samples):\n",
    "\n",
    "    # Sample states\n",
    "    s0 = uniform(0, 1)\n",
    "    s1 = uniform(0, 1)\n",
    "\n",
    "    # Simulate system forward\n",
    "    sn = odeint(lin_eq, np.array([s0, s1], [0, ts])\n",
    "    sn = sn[-1,:]\n",
    "\n",
    "    # Evaluate basis functions at t = 0 and t = ts\n",
    "    Ps0_list[i,:] = psi_RK(s0).T\n",
    "    Psi_list[i,:] = psi_RK(sn).T\n",
    "\n",
    "    [Atemp, Gtemp] = A_and_G(s0,sn);\n",
    "    A = A+Atemp\n",
    "    G = G+Gtemp\n",
    "\n",
    "Kd = dot(A,linalg.pinv(G)) # more accurate than numpy\n",
    "print(\"The identified Koopman operator is \\n\", Kd)\n",
    "\n",
    "## Measure maximum local (across one time step) errors in Ψ(s_{k+1}) - Kd*Ψ(s_k)\n",
    "local_errors = empty([Samples, NKoopman])\n",
    "for i in range(Samples):\n",
    "    local_errors[i,:] = abs(Psi_list[i,:]- dot(Kd,Ps0_list[i,:]))\n",
    "max_local_errors = amax(local_errors, axis = 0)\n",
    "print('Max local errors in theta: %.5f and dtheta: %.5f ' % tuple(max_local_errors[0:2]))"
   ]
  },
  {
   "cell_type": "code",
   "execution_count": 7,
   "metadata": {},
   "outputs": [
    {
     "data": {
      "text/plain": [
       "array([1.02, 1.02, 1.02, 1.02])"
      ]
     },
     "execution_count": 7,
     "metadata": {},
     "output_type": "execute_result"
    }
   ],
   "source": [
    "np.dot(np.diag(1.02*np.ones(4)), np.ones(4))"
   ]
  },
  {
   "cell_type": "code",
   "execution_count": 13,
   "metadata": {},
   "outputs": [
    {
     "data": {
      "text/plain": [
       "array([1.02, 1.02, 1.02, 1.02])"
      ]
     },
     "execution_count": 13,
     "metadata": {},
     "output_type": "execute_result"
    }
   ],
   "source": [
    "np.dot(1.02/4*np.ones((4,4)), np.ones(4))"
   ]
  },
  {
   "cell_type": "code",
   "execution_count": 36,
   "metadata": {},
   "outputs": [
    {
     "data": {
      "text/plain": [
       "array([1.        , 1.1       , 1.32000001, 1.82600002])"
      ]
     },
     "execution_count": 36,
     "metadata": {},
     "output_type": "execute_result"
    }
   ],
   "source": [
    "psi_RK(1)"
   ]
  },
  {
   "cell_type": "code",
   "execution_count": 24,
   "metadata": {},
   "outputs": [
    {
     "data": {
      "text/plain": [
       "array([   1.49999966,    3.00000705,    8.30187295, -168.96018023])"
      ]
     },
     "execution_count": 24,
     "metadata": {},
     "output_type": "execute_result"
    }
   ],
   "source": [
    "np.dot(logm(Kd)/ts, psi_RK(1))"
   ]
  },
  {
   "cell_type": "code",
   "execution_count": 25,
   "metadata": {},
   "outputs": [
    {
     "ename": "NameError",
     "evalue": "name 'P' is not defined",
     "output_type": "error",
     "traceback": [
      "\u001b[1;31m---------------------------------------------------------------------------\u001b[0m",
      "\u001b[1;31mNameError\u001b[0m                                 Traceback (most recent call last)",
      "\u001b[1;32m<ipython-input-25-6257e466637a>\u001b[0m in \u001b[0;36m<module>\u001b[1;34m\u001b[0m\n\u001b[1;32m----> 1\u001b[1;33m \u001b[0mnp\u001b[0m\u001b[1;33m.\u001b[0m\u001b[0mdot\u001b[0m\u001b[1;33m(\u001b[0m\u001b[0mlogm\u001b[0m\u001b[1;33m(\u001b[0m\u001b[0mP\u001b[0m\u001b[1;33m)\u001b[0m\u001b[1;33m/\u001b[0m\u001b[0mts\u001b[0m\u001b[1;33m,\u001b[0m \u001b[0mpsi_RK\u001b[0m\u001b[1;33m(\u001b[0m\u001b[1;36m1\u001b[0m\u001b[1;33m)\u001b[0m\u001b[1;33m)\u001b[0m\u001b[1;33m\u001b[0m\u001b[1;33m\u001b[0m\u001b[0m\n\u001b[0m",
      "\u001b[1;31mNameError\u001b[0m: name 'P' is not defined"
     ]
    }
   ],
   "source": [
    "np.dot(logm(P)/ts, psi_RK(1))"
   ]
  },
  {
   "cell_type": "code",
   "execution_count": 7,
   "metadata": {},
   "outputs": [
    {
     "data": {
      "text/plain": [
       "array([  3.99999929,  11.99999902,  52.11269586, 108.94890136])"
      ]
     },
     "execution_count": 7,
     "metadata": {},
     "output_type": "execute_result"
    }
   ],
   "source": [
    "K = logm(Kd)/ts\n",
    "np.dot(K, psi_RK(2))"
   ]
  },
  {
   "cell_type": "code",
   "execution_count": 8,
   "metadata": {},
   "outputs": [
    {
     "data": {
      "text/plain": [
       "array([[ 3.73320242e-07,  9.99999391e-01,  3.48634161e-08,\n",
       "         1.07436480e-08],\n",
       "       [ 5.09815562e-06,  8.53394312e-06,  9.99996598e-01,\n",
       "        -8.75703516e-08],\n",
       "       [-1.51310816e-02,  3.78383165e-02,  1.05936812e-02,\n",
       "         9.97393847e-01],\n",
       "       [-7.51249396e+01, -2.10503307e+02,  4.50953711e+01,\n",
       "         1.07705298e+01]])"
      ]
     },
     "execution_count": 8,
     "metadata": {},
     "output_type": "execute_result"
    }
   ],
   "source": [
    "K"
   ]
  },
  {
   "cell_type": "code",
   "execution_count": 9,
   "metadata": {},
   "outputs": [
    {
     "data": {
      "text/plain": [
       "array([   0.49999965,    1.50000699,    5.30190674, -174.98691522])"
      ]
     },
     "execution_count": 9,
     "metadata": {},
     "output_type": "execute_result"
    }
   ],
   "source": [
    "B = logm(Kd)/ts-np.eye(4)\n",
    "np.dot(B, psi_RK(1))"
   ]
  },
  {
   "cell_type": "code",
   "execution_count": 10,
   "metadata": {},
   "outputs": [
    {
     "name": "stdout",
     "output_type": "stream",
     "text": [
      "2.0 [ 1.99999929  7.99999902 40.11269579 56.94890082]\n",
      "4.0 [  3.99999929  11.99999902  52.11269586 108.94890136]\n"
     ]
    }
   ],
   "source": [
    "x = 2\n",
    "print(0.5*x**2, np.dot(B, psi_RK(x)))\n",
    "\n",
    "print(x+0.5*x**2, np.dot(K, psi_RK(x)))"
   ]
  },
  {
   "cell_type": "code",
   "execution_count": 29,
   "metadata": {},
   "outputs": [],
   "source": [
    "def new_f(u,t):\n",
    "    return u + np.dot(B,psi_RK(u))[0]\n",
    "def no_f(u,t):\n",
    "    return u\n",
    "def new_g(u,t):\n",
    "    return np.dot(K,psi_RK(u))[0]"
   ]
  },
  {
   "cell_type": "code",
   "execution_count": 12,
   "metadata": {},
   "outputs": [],
   "source": [
    "import matplotlib.pyplot as plt\n"
   ]
  },
  {
   "cell_type": "code",
   "execution_count": 37,
   "metadata": {},
   "outputs": [
    {
     "data": {
      "text/plain": [
       "2.3000000000000003"
      ]
     },
     "execution_count": 37,
     "metadata": {},
     "output_type": "execute_result"
    }
   ],
   "source": [
    "ts*115"
   ]
  },
  {
   "cell_type": "code",
   "execution_count": 22,
   "metadata": {},
   "outputs": [],
   "source": [
    "u0 = 1\n",
    "psi = psi_RK(u0)\n",
    "u_list = [u0]\n",
    "t_list = [0]\n",
    "t = 0\n",
    "for i in range(50):\n",
    "    psi = np.dot(Kd,psi_RK(psi[0]))\n",
    "    u_list += [psi[0]]\n",
    "    t = (i+1)*ts\n",
    "    t_list +=[t]"
   ]
  },
  {
   "cell_type": "code",
   "execution_count": 23,
   "metadata": {},
   "outputs": [
    {
     "data": {
      "text/plain": [
       "[<matplotlib.lines.Line2D at 0x20b796b69a0>]"
      ]
     },
     "execution_count": 23,
     "metadata": {},
     "output_type": "execute_result"
    },
    {
     "data": {
      "image/png": "[encoded data removed]",
      "text/plain": [
       "<Figure size 432x288 with 1 Axes>"
      ]
     },
     "metadata": {
      "needs_background": "light"
     },
     "output_type": "display_data"
    }
   ],
   "source": [
    "plt.plot(t_list, u_list)"
   ]
  },
  {
   "cell_type": "code",
   "execution_count": 24,
   "metadata": {},
   "outputs": [
    {
     "ename": "NameError",
     "evalue": "name 't_space' is not defined",
     "output_type": "error",
     "traceback": [
      "\u001b[1;31m---------------------------------------------------------------------------\u001b[0m",
      "\u001b[1;31mNameError\u001b[0m                                 Traceback (most recent call last)",
      "\u001b[1;32m<ipython-input-24-cb03e2499aaf>\u001b[0m in \u001b[0;36m<module>\u001b[1;34m\u001b[0m\n\u001b[1;32m----> 1\u001b[1;33m \u001b[0mt_space\u001b[0m\u001b[1;33m[\u001b[0m\u001b[1;36m1\u001b[0m\u001b[1;33m]\u001b[0m\u001b[1;33m\u001b[0m\u001b[1;33m\u001b[0m\u001b[0m\n\u001b[0m",
      "\u001b[1;31mNameError\u001b[0m: name 't_space' is not defined"
     ]
    }
   ],
   "source": [
    "t_space[1]"
   ]
  },
  {
   "cell_type": "code",
   "execution_count": 25,
   "metadata": {},
   "outputs": [],
   "source": [
    "def euler(f, u0, t_space):\n",
    "    u_list = [u0]\n",
    "    u = u0\n",
    "    dt = t_space[1]-t_space[0]\n",
    "    for t in t_space:\n",
    "        du = f(u, t)\n",
    "        u = u +dt*du\n",
    "        u_list += [u]\n",
    "    return u_list[:-1]\n",
    "    \n",
    "    "
   ]
  },
  {
   "cell_type": "code",
   "execution_count": 26,
   "metadata": {},
   "outputs": [
    {
     "name": "stdout",
     "output_type": "stream",
     "text": [
      "5.372322785074854\n",
      "5.350000098590999\n",
      "5.35\n",
      "[5.37232722]\n"
     ]
    }
   ],
   "source": [
    "x = 5\n",
    "print(np.dot(Kd, psi_RK(x))[0])\n",
    "dx = ts*np.dot(K, psi_RK(x))[0]\n",
    "dx_true = ts*lin_eq(x,1)\n",
    "print(x +dx)\n",
    "print(x +dx_true)\n",
    "print(odeint(lin_eq, x, [0,ts])[-1])"
   ]
  },
  {
   "cell_type": "code",
   "execution_count": 68,
   "metadata": {},
   "outputs": [
    {
     "data": {
      "text/plain": [
       "array([[-1.11022302e-16, -4.51028104e-17,  3.70417672e-16,\n",
       "         2.16293675e-16],\n",
       "       [ 1.02321580e-17, -1.11022302e-15,  5.20417043e-16,\n",
       "         2.52185425e-16],\n",
       "       [ 2.53269627e-16,  3.33066907e-16, -2.22044605e-16,\n",
       "         1.21430643e-16],\n",
       "       [-2.22044605e-16, -6.21724894e-15, -2.22044605e-16,\n",
       "         6.66133815e-16]])"
      ]
     },
     "execution_count": 68,
     "metadata": {},
     "output_type": "execute_result"
    }
   ],
   "source": [
    "expm(K*ts)-Kd"
   ]
  },
  {
   "cell_type": "code",
   "execution_count": 33,
   "metadata": {},
   "outputs": [
    {
     "data": {
      "text/plain": [
       "<matplotlib.legend.Legend at 0x20b7a8c87c0>"
      ]
     },
     "execution_count": 33,
     "metadata": {},
     "output_type": "execute_result"
    },
    {
     "data": {
      "image/png": "[encoded data removed]",
      "text/plain": [
       "<Figure size 432x288 with 1 Axes>"
      ]
     },
     "metadata": {
      "needs_background": "light"
     },
     "output_type": "display_data"
    }
   ],
   "source": [
    "u0 = 1\n",
    "t_space = np.linspace(0, 1,51)\n",
    "u1 = odeint(lin_eq, u0, t_space)\n",
    "plt.plot(t_space, u1.T[0], 'g-', label = 'Full system')\n",
    "u1 = odeint(new_f, u0, t_space)\n",
    "plt.plot(t_space, u1.T[0], 'r.',label = 'Taylor approach + no forcing system')\n",
    "u1 = odeint(no_f, u0, t_space)\n",
    "plt.plot(t_space, u1.T[0], 'b', label = 'no forcing')\n",
    "plt.legend()"
   ]
  },
  {
   "cell_type": "code",
   "execution_count": 28,
   "metadata": {},
   "outputs": [
    {
     "data": {
      "text/plain": [
       "[<matplotlib.lines.Line2D at 0x20b7978a2e0>]"
      ]
     },
     "execution_count": 28,
     "metadata": {},
     "output_type": "execute_result"
    },
    {
     "data": {
      "image/png": "[encoded data removed]",
      "text/plain": [
       "<Figure size 432x288 with 1 Axes>"
      ]
     },
     "metadata": {
      "needs_background": "light"
     },
     "output_type": "display_data"
    }
   ],
   "source": [
    "u0 = 1\n",
    "t_space = np.linspace(0, 1,51)\n",
    "u1 = odeint(lin_eq, u0, t_space)\n",
    "plt.plot(t_space, u1.T[0], 'g-',, label = 'Full system')\n",
    "u1 = odeint(new_f, u0, t_space)\n",
    "plt.plot(t_space, u1.T[0], 'r--')\n",
    "u1 = odeint(new_f, u0, t_space)\n",
    "plt.plot(t_space, u1.T[0], 'r--')\n",
    "u1 = odeint(new_g, u0, t_space)\n",
    "plt.plot(t_space, u1.T[0], 'k--')\n",
    "plt.plot(t_list, u_list)"
   ]
  },
  {
   "cell_type": "code",
   "execution_count": 62,
   "metadata": {},
   "outputs": [
    {
     "data": {
      "text/plain": [
       "[<matplotlib.lines.Line2D at 0x2a19393cf70>]"
      ]
     },
     "execution_count": 62,
     "metadata": {},
     "output_type": "execute_result"
    },
    {
     "data": {
      "image/png": "[encoded data removed]",
      "text/plain": [
       "<Figure size 432x288 with 1 Axes>"
      ]
     },
     "metadata": {
      "needs_background": "light"
     },
     "output_type": "display_data"
    }
   ],
   "source": [
    "u0 = 1\n",
    "t_space = np.linspace(0, 0.5,26)\n",
    "u1 = euler(lin_eq, u0, t_space, label = 'Full system')\n",
    "plt.plot(t_space, u1, 'g-')\n",
    "u1 = euler(new_f, u0, t_space)\n",
    "plt.plot(t_space, u1, 'r--')\n",
    "u1 = euler(new_g, u0, t_space)\n",
    "plt.plot(t_space, u1, 'k--')\n",
    "plt.plot(t_list, u_list)"
   ]
  },
  {
   "cell_type": "code",
   "execution_count": 14,
   "metadata": {},
   "outputs": [
    {
     "data": {
      "text/plain": [
       "array([[ 3.18092114, -4.29945204,  2.95394425, ..., -3.21662474,\n",
       "         0.32952771,  2.39897046],\n",
       "       [ 3.18092114, -4.29945204,  2.95394425, ..., -3.21662474,\n",
       "         0.32952771,  2.39897046],\n",
       "       [ 3.18092116, -4.29945206,  2.95394427, ..., -3.21662476,\n",
       "         0.32952771,  2.39897048],\n",
       "       [ 3.18092117, -4.29945209,  2.95394428, ..., -3.21662478,\n",
       "         0.32952772,  2.39897049]])"
      ]
     },
     "execution_count": 14,
     "metadata": {},
     "output_type": "execute_result"
    }
   ],
   "source": [
    "Psi_list.T"
   ]
  },
  {
   "cell_type": "code",
   "execution_count": 41,
   "metadata": {},
   "outputs": [
    {
     "data": {
      "text/plain": [
       "array([[-1.64151085,  0.37096081,  4.00790293, ..., -2.50711338,\n",
       "        -4.83733277,  2.81905411],\n",
       "       [-1.37205461,  0.38472182,  5.61423208, ..., -1.8785515 ,\n",
       "        -2.49735331,  3.61376075],\n",
       "       [-0.92153651,  0.41323761, 10.11457711, ..., -0.93658275,\n",
       "        -0.08115266,  5.65124423],\n",
       "       [-0.23522792,  0.47061308, 24.53512042, ...,  0.2409406 ,\n",
       "         1.25463803, 11.4499375 ]])"
      ]
     },
     "execution_count": 41,
     "metadata": {},
     "output_type": "execute_result"
    }
   ],
   "source": [
    "P = np.dot(Psi_list.T, np.linalg.pinv(Ps0_list.T))\n",
    "dot(P, Ps0_list.T)"
   ]
  },
  {
   "cell_type": "code",
   "execution_count": 43,
   "metadata": {},
   "outputs": [
    {
     "data": {
      "text/plain": [
       "array([[-5.32786931e-06,  1.00000834e+00, -3.56419963e-06,\n",
       "         3.97960790e-07],\n",
       "       [-8.35250658e-07,  1.44777749e-06,  9.99999004e-01,\n",
       "         1.51062145e-07],\n",
       "       [ 1.38712766e-04, -3.80248131e-04,  3.93221087e-04,\n",
       "         9.99897018e-01],\n",
       "       [-1.77117341e+01,  4.00677584e+01, -3.17454753e+01,\n",
       "         1.00215642e+01]])"
      ]
     },
     "execution_count": 43,
     "metadata": {},
     "output_type": "execute_result"
    }
   ],
   "source": [
    "logm(P)/ts"
   ]
  },
  {
   "cell_type": "code",
   "execution_count": 23,
   "metadata": {},
   "outputs": [
    {
     "data": {
      "text/plain": [
       "1.000978691784143"
      ]
     },
     "execution_count": 23,
     "metadata": {},
     "output_type": "execute_result"
    }
   ],
   "source": [
    "np.log(dot(P, psi_RK(1))[0])/ts"
   ]
  },
  {
   "cell_type": "code",
   "execution_count": 30,
   "metadata": {},
   "outputs": [
    {
     "data": {
      "text/plain": [
       "array([0.99999315, 0.99999315, 1.00000207, 1.00001259])"
      ]
     },
     "execution_count": 30,
     "metadata": {},
     "output_type": "execute_result"
    }
   ],
   "source": [
    "np.dot(logm(Kd)/ts, np.ones(4))"
   ]
  },
  {
   "cell_type": "code",
   "execution_count": 24,
   "metadata": {},
   "outputs": [
    {
     "data": {
      "text/plain": [
       "1.000000239925092"
      ]
     },
     "execution_count": 24,
     "metadata": {},
     "output_type": "execute_result"
    }
   ],
   "source": [
    "np.log(dot(Kd, psi_RK(1))[0])/ts"
   ]
  },
  {
   "cell_type": "code",
   "execution_count": 125,
   "metadata": {},
   "outputs": [
    {
     "data": {
      "text/plain": [
       "1.101108632269795"
      ]
     },
     "execution_count": 125,
     "metadata": {},
     "output_type": "execute_result"
    }
   ],
   "source": [
    "np.log(dot(P, psi_RK(1))[0])/ts"
   ]
  },
  {
   "cell_type": "code",
   "execution_count": 6,
   "metadata": {},
   "outputs": [],
   "source": [
    "from scipy.linalg import expm, logm"
   ]
  },
  {
   "cell_type": "code",
   "execution_count": 21,
   "metadata": {},
   "outputs": [
    {
     "name": "stdout",
     "output_type": "stream",
     "text": [
      "[0.86578741]\n"
     ]
    },
    {
     "name": "stderr",
     "output_type": "stream",
     "text": [
      "C:\\Users\\jithi\\anaconda3\\lib\\site-packages\\scipy\\linalg\\_matfuncs_inv_ssq.py:827: LogmExactlySingularWarning: The logm input matrix is exactly singular.\n",
      "  warnings.warn(exact_singularity_msg, LogmExactlySingularWarning)\n"
     ]
    },
    {
     "data": {
      "text/plain": [
       "array([0.86578762, 0.86578762, 0.86578762, 0.8657876 ])"
      ]
     },
     "execution_count": 21,
     "metadata": {},
     "output_type": "execute_result"
    }
   ],
   "source": [
    "x = np.random.rand(1)\n",
    "print(x)\n",
    "np.dot(logm(Kd)/ts, psi_RK(x))"
   ]
  },
  {
   "cell_type": "code",
   "execution_count": 22,
   "metadata": {},
   "outputs": [
    {
     "name": "stdout",
     "output_type": "stream",
     "text": [
      "[0.62619557]\n",
      "logm result may be inaccurate, approximate err = 2.5799146899642926e-10\n"
     ]
    },
    {
     "data": {
      "text/plain": [
       "array([-0.48713938+0.05706452j, -0.48713938+0.05706452j,\n",
       "       -0.4965499 +0.05676445j,  2.78138118+4.41698992j])"
      ]
     },
     "execution_count": 22,
     "metadata": {},
     "output_type": "execute_result"
    }
   ],
   "source": [
    "x = np.random.rand(1)\n",
    "print(x)\n",
    "np.dot(logm(P)/ts, psi_RK(x))"
   ]
  },
  {
   "cell_type": "code",
   "execution_count": null,
   "metadata": {},
   "outputs": [],
   "source": [
    "logm(Kd)/ts"
   ]
  },
  {
   "cell_type": "code",
   "execution_count": 135,
   "metadata": {},
   "outputs": [
    {
     "data": {
      "text/plain": [
       "array([1.+4.62223187e-31j, 1.-2.22044605e-14j, 1.+1.11022302e-14j,\n",
       "       1.+1.11022302e-14j])"
      ]
     },
     "execution_count": 135,
     "metadata": {},
     "output_type": "execute_result"
    }
   ],
   "source": [
    "np.dot(logm(np.ones((4,4))*np.exp(ts)/4),np.ones(4))/ts"
   ]
  },
  {
   "cell_type": "code",
   "execution_count": 134,
   "metadata": {},
   "outputs": [
    {
     "data": {
      "text/plain": [
       "array([-5.46517744, -5.46517744, -5.46517744, -5.46517744])"
      ]
     },
     "execution_count": 134,
     "metadata": {},
     "output_type": "execute_result"
    }
   ],
   "source": [
    "np.dot(np.log(np.ones((4,4))*np.exp(ts)/4),np.ones(4))"
   ]
  },
  {
   "cell_type": "code",
   "execution_count": 112,
   "metadata": {},
   "outputs": [
    {
     "data": {
      "text/plain": [
       "array([[ 1.98639703e+01,  1.98650489e+01, -3.87113414e+01,\n",
       "         2.50111148e-03],\n",
       "       [ 1.98639703e+01,  1.98650489e+01, -3.87113414e+01,\n",
       "         2.50111148e-03],\n",
       "       [ 1.98675787e+01,  1.98686066e+01, -3.87185726e+01,\n",
       "         2.50705227e-03],\n",
       "       [ 3.86470730e+01,  3.86492029e+01, -7.62524731e+01,\n",
       "        -2.35748650e-02]])"
      ]
     },
     "execution_count": 112,
     "metadata": {},
     "output_type": "execute_result"
    }
   ],
   "source": [
    "P"
   ]
  },
  {
   "cell_type": "code",
   "execution_count": 70,
   "metadata": {},
   "outputs": [
    {
     "data": {
      "text/plain": [
       "array([1.0080321])"
      ]
     },
     "execution_count": 70,
     "metadata": {},
     "output_type": "execute_result"
    }
   ],
   "source": [
    "s0 = 1\n",
    "sn = odeint(lin_eq, s0, [0, ts])\n",
    "sn = sn[-1,:]\n",
    "sn"
   ]
  },
  {
   "cell_type": "code",
   "execution_count": 71,
   "metadata": {},
   "outputs": [
    {
     "data": {
      "text/plain": [
       "array([0.40926103, 0.40926103, 0.40926103, 0.40926103])"
      ]
     },
     "execution_count": 71,
     "metadata": {},
     "output_type": "execute_result"
    }
   ],
   "source": [
    "dot(Kd,psi_RK(s0))"
   ]
  },
  {
   "cell_type": "code",
   "execution_count": 27,
   "metadata": {},
   "outputs": [
    {
     "data": {
      "text/plain": [
       "array([1.02020134, 1.02020134, 1.02020135, 1.02020136])"
      ]
     },
     "execution_count": 27,
     "metadata": {},
     "output_type": "execute_result"
    }
   ],
   "source": [
    "K = np.diag(np.sum(Kd,axis =0))\n",
    "dot(K,psi_RK(s0))"
   ]
  },
  {
   "cell_type": "code",
   "execution_count": 44,
   "metadata": {},
   "outputs": [
    {
     "data": {
      "text/plain": [
       "array([[47.77304555, 46.77304555],\n",
       "       [46.77304555, 47.77304555]])"
      ]
     },
     "execution_count": 44,
     "metadata": {},
     "output_type": "execute_result"
    }
   ],
   "source": [
    "np.log(s0*np.exp(np.diag(np.ones(2))*ts))/ts"
   ]
  },
  {
   "cell_type": "code",
   "execution_count": 58,
   "metadata": {},
   "outputs": [],
   "source": [
    "A = np.log(s0*np.exp(np.diag(np.ones(4)*ts)))/ts"
   ]
  },
  {
   "cell_type": "code",
   "execution_count": 60,
   "metadata": {},
   "outputs": [],
   "source": [
    "A = np.log(s0*Kd)/ts"
   ]
  },
  {
   "cell_type": "code",
   "execution_count": 57,
   "metadata": {},
   "outputs": [
    {
     "data": {
      "text/plain": [
       "1.0000004285862867"
      ]
     },
     "execution_count": 57,
     "metadata": {},
     "output_type": "execute_result"
    }
   ],
   "source": [
    "np.log(dot(Kd,psi_RK(s0))[0]/s0)/ts"
   ]
  },
  {
   "cell_type": "code",
   "execution_count": null,
   "metadata": {},
   "outputs": [],
   "source": []
  },
  {
   "cell_type": "code",
   "execution_count": 61,
   "metadata": {},
   "outputs": [
    {
     "data": {
      "text/plain": [
       "array([[-68.31471782, -68.31471782, -68.31471782, -68.31471782],\n",
       "       [-68.31471782, -68.31471782, -68.31471782, -68.31471782],\n",
       "       [-68.31471782, -68.31471782, -68.31471782, -68.31471782],\n",
       "       [-68.31471782, -68.31471782, -68.31471782, -68.31471782]])"
      ]
     },
     "execution_count": 61,
     "metadata": {},
     "output_type": "execute_result"
    }
   ],
   "source": [
    "A"
   ]
  },
  {
   "cell_type": "code",
   "execution_count": 65,
   "metadata": {},
   "outputs": [
    {
     "data": {
      "text/plain": [
       "array([-273.25887235, -273.25887235, -273.25887235, -273.25887235])"
      ]
     },
     "execution_count": 65,
     "metadata": {},
     "output_type": "execute_result"
    }
   ],
   "source": [
    "dot(A,psi_RK(s0))"
   ]
  },
  {
   "cell_type": "code",
   "execution_count": 66,
   "metadata": {},
   "outputs": [
    {
     "data": {
      "text/plain": [
       "1.0000004285862867"
      ]
     },
     "execution_count": 66,
     "metadata": {},
     "output_type": "execute_result"
    }
   ],
   "source": [
    "def kooped_lin_eq(x,t):\n",
    "\n",
    "    return np.log(dot(Kd,psi_RK(s0))[0]/s0)/ts*x\n",
    "kooped_lin_eq(1,1)"
   ]
  },
  {
   "cell_type": "code",
   "execution_count": 29,
   "metadata": {},
   "outputs": [],
   "source": [
    "s = [0, 1]\n",
    "state_K = []\n",
    "p = Psi_k(s)\n",
    "for i in range(100):\n",
    "    p = dot(Kd, p)\n",
    "    state_K += [p[:2]]\n",
    "state_nK = []\n",
    "sn = s\n",
    "for i in range(100):\n",
    "    sn = odeint(single_pendulum, sn, [0, ts])\n",
    "    sn = sn[-1,:]\n",
    "    state_nK += [sn]    "
   ]
  },
  {
   "cell_type": "code",
   "execution_count": 30,
   "metadata": {},
   "outputs": [
    {
     "data": {
      "text/plain": [
       "[<matplotlib.lines.Line2D at 0x23c48480520>]"
      ]
     },
     "execution_count": 30,
     "metadata": {},
     "output_type": "execute_result"
    },
    {
     "data": {
      "image/png": "[encoded data removed]",
      "text/plain": [
       "<Figure size 432x288 with 1 Axes>"
      ]
     },
     "metadata": {
      "needs_background": "light"
     },
     "output_type": "display_data"
    }
   ],
   "source": [
    "K = np.array(state_K)\n",
    "import matplotlib.pyplot as plt\n",
    "plt.plot(K.T[0][0],K.T[0][1])\n",
    "plt.plot(np.array(state_nK).T[0], np.array(state_nK).T[1], '.')"
   ]
  },
  {
   "cell_type": "code",
   "execution_count": 77,
   "metadata": {},
   "outputs": [
    {
     "name": "stdout",
     "output_type": "stream",
     "text": [
      "The identified Koopman operator is \n",
      " [[ 9.99999986e-01  1.99999992e-02  1.99941178e-04  1.33316126e-06]\n",
      " [-2.74545124e-06  9.99999809e-01  1.99882977e-02  1.99978809e-04]\n",
      " [-4.10643633e-04 -5.92806339e-05  9.98244621e-01  1.99920533e-02]\n",
      " [-4.08000360e-02 -1.21715886e-02 -1.75518052e-01  9.98223731e-01]]\n",
      "Max local errors in theta: 0.00000 and dtheta: 0.00000 \n"
     ]
    }
   ],
   "source": [
    "NKoopman = 6\n",
    "# Samples = Number_of_Samples\n",
    "A = zeros((NKoopman, NKoopman))\n",
    "G = zeros((NKoopman, NKoopman))\n",
    "\n",
    "Ps0_list = empty((Samples,NKoopman))\n",
    "Psi_list = empty((Samples,NKoopman))\n",
    "\n",
    "for i in range (Samples):\n",
    "\n",
    "    # Sample states\n",
    "    th0 = uniform(-2*pi, 2*pi)\n",
    "    dth0 = uniform(-5, 5)\n",
    "    s0 = [th0, dth0]\n",
    "\n",
    "\n",
    "    # Simulate system forward\n",
    "    sn = odeint(single_pendulum, s0, [0, ts])\n",
    "    sn = sn[-1,:]\n",
    "\n",
    "    # Evaluate basis functions at t = 0 and t = ts\n",
    "    Ps0_list[i,:] = Psi_k(s0).T\n",
    "    Psi_list[i,:] = Psi_k(sn).T\n",
    "\n",
    "    [Atemp, Gtemp] = A_and_G(s0,sn);\n",
    "    A = A+Atemp\n",
    "    G = G+Gtemp\n",
    "\n",
    "Kd2 = dot(A,linalg.pinv2(G)) # more accurate than numpy\n",
    "print(\"The identified Koopman operator is \\n\", Kd)\n",
    "\n",
    "## Measure maximum local (across one time step) errors in Ψ(s_{k+1}) - Kd*Ψ(s_k)\n",
    "local_errors = empty([Samples, NKoopman])\n",
    "for i in range(Samples):\n",
    "    local_errors[i,:] = abs(Psi_list[i,:]- dot(Kd2,Ps0_list[i,:]))\n",
    "max_local_errors = amax(local_errors, axis = 0)\n",
    "print('Max local errors in theta: %.5f and dtheta: %.5f ' % tuple(max_local_errors[0:2]))"
   ]
  },
  {
   "cell_type": "code",
   "execution_count": 78,
   "metadata": {},
   "outputs": [
    {
     "data": {
      "text/plain": [
       "array([[ 1.00000000e+00,  1.99999993e-02,  1.99999925e-04,\n",
       "         1.33311038e-06,  6.68876055e-09,  2.53376844e-11],\n",
       "       [ 1.88410923e-09,  1.00000000e+00,  1.99999893e-02,\n",
       "         1.99999455e-04,  1.33213065e-06,  6.71257917e-09],\n",
       "       [ 4.77066163e-07,  9.26335081e-09,  9.99997265e-01,\n",
       "         1.99999109e-02,  1.99723475e-04,  1.33220068e-06],\n",
       "       [ 9.52799254e-05, -3.24992602e-06, -5.46984459e-04,\n",
       "         9.99980127e-01,  1.99446889e-02,  1.99663956e-04],\n",
       "       [ 1.42734673e-02, -2.51673323e-03, -8.20135963e-02,\n",
       "        -3.58043033e-03,  9.91699957e-01,  1.99191060e-02],\n",
       "       [ 1.42330435e+00, -6.59834609e-01, -8.19159164e+00,\n",
       "        -4.77738607e-01, -8.30748285e-01,  9.85801057e-01]])"
      ]
     },
     "execution_count": 78,
     "metadata": {},
     "output_type": "execute_result"
    }
   ],
   "source": [
    "Kd2"
   ]
  },
  {
   "cell_type": "code",
   "execution_count": 36,
   "metadata": {},
   "outputs": [],
   "source": [
    "s = [0, 1]\n",
    "state_K2 = []\n",
    "state_K = []\n",
    "NKoopman = 4\n",
    "p = Psi_k(s)\n",
    "for i in range(50):\n",
    "    p = dot(Kd, p)\n",
    "    state_K += [p[:2]]\n",
    "NKoopman = 6    \n",
    "p = Psi_k(s)\n",
    "for i in range(50):\n",
    "    p = dot(Kd2, p)\n",
    "    state_K2 += [p[:2]]\n",
    "state_nK2 = []\n",
    "sn = s\n",
    "for i in range(50):\n",
    "    sn = odeint(single_pendulum, sn, [0, ts])\n",
    "    sn = sn[-1,:]\n",
    "    state_nK2 += [sn]\n",
    "    \n",
    "K2 = np.array(state_K2)\n",
    "K = np.array(state_K)"
   ]
  },
  {
   "cell_type": "code",
   "execution_count": 37,
   "metadata": {},
   "outputs": [
    {
     "data": {
      "text/plain": [
       "[<matplotlib.lines.Line2D at 0x23c484c0160>]"
      ]
     },
     "execution_count": 37,
     "metadata": {},
     "output_type": "execute_result"
    },
    {
     "data": {
      "image/png": "[encoded data removed]",
      "text/plain": [
       "<Figure size 432x288 with 1 Axes>"
      ]
     },
     "metadata": {
      "needs_background": "light"
     },
     "output_type": "display_data"
    }
   ],
   "source": [
    "\n",
    "plt.plot(K2.T[0][0],K2.T[0][1])\n",
    "plt.plot(K.T[0][0],K.T[0][1])\n",
    "plt.plot(np.array(state_nK2).T[0], np.array(state_nK2).T[1], '.')"
   ]
  },
  {
   "cell_type": "code",
   "execution_count": 99,
   "metadata": {},
   "outputs": [
    {
     "name": "stdout",
     "output_type": "stream",
     "text": [
      "exit1\n",
      "The identified Koopman operator is \n",
      " [[ 1.00000000e+00  1.99999995e-02  1.99999826e-04  1.33315769e-06\n",
      "   6.67785933e-09  2.63570388e-11 -2.42847114e-13]\n",
      " [ 2.76594412e-10  1.00000000e+00  1.99999894e-02  1.99999513e-04\n",
      "   1.33128903e-06  6.70974506e-09 -5.60090715e-11]\n",
      " [-3.37925512e-09  7.28066628e-08  9.99997249e-01  1.99999207e-02\n",
      "   1.99478702e-04  1.33131083e-06 -1.60062160e-08]\n",
      " [-5.68737043e-07  9.47197900e-06 -5.49903123e-04  9.99982013e-01\n",
      "   1.98958219e-02  1.99485687e-04 -3.19611938e-06]\n",
      " [-3.82580123e-05 -4.67750357e-04 -8.24268132e-02 -3.29823381e-03\n",
      "   9.84383878e-01  1.98929027e-02 -4.78562349e-04]\n",
      " [ 6.61210943e-03 -4.26625737e-01 -8.22788983e+00 -4.49628385e-01\n",
      "  -1.55887292e+00  9.83292498e-01 -4.76402373e-02]\n",
      " [ 1.19377953e-01  2.69800401e+01  1.27599753e+00  4.98509231e-01\n",
      "   2.85872762e-01 -3.28789269e-01  1.01663807e+00]]\n",
      "exit2\n",
      "Max local errors in theta: 0.00000 and dtheta: 0.00000 \n"
     ]
    }
   ],
   "source": [
    "NKoopman = 7\n",
    "# Samples = Number_of_Samples\n",
    "A = zeros((NKoopman, NKoopman))\n",
    "G = zeros((NKoopman, NKoopman))\n",
    "\n",
    "Ps0_list = empty((Samples,NKoopman))\n",
    "Psi_list = empty((Samples,NKoopman))\n",
    "\n",
    "for i in range (Samples):\n",
    "\n",
    "    # Sample states\n",
    "    th0 = uniform(-2*pi, 2*pi)\n",
    "    dth0 = uniform(-5, 5)\n",
    "    s0 = [th0, dth0]\n",
    "\n",
    "\n",
    "    # Simulate system forward\n",
    "    sn = odeint(single_pendulum, s0, [0, ts])\n",
    "    sn = sn[-1,:]\n",
    "\n",
    "    # Evaluate basis functions at t = 0 and t = ts\n",
    "    Ps0_list[i,:] = psi_RK(s0).T\n",
    "    Psi_list[i,:] = psi_RK(sn).T\n",
    "\n",
    "    [Atemp, Gtemp] = A_and_G(s0,sn);\n",
    "    A = A+Atemp\n",
    "    G = G+Gtemp\n",
    "\n",
    "print('exit1')\n",
    "KdRK = dot(A,linalg.pinv2(G)) # more accurate than numpy\n",
    "print(\"The identified Koopman operator is \\n\", KdRK)\n",
    "print('exit2')\n",
    "## Measure maximum local (across one time step) errors in Ψ(s_{k+1}) - Kd*Ψ(s_k)\n",
    "local_errors = empty([Samples, NKoopman])\n",
    "for i in range(Samples):\n",
    "    local_errors[i,:] = abs(Psi_list[i,:]- dot(KdRK,Ps0_list[i,:]))\n",
    "max_local_errors = amax(local_errors, axis = 0)\n",
    "print('Max local errors in theta: %.5f and dtheta: %.5f ' % tuple(max_local_errors[0:2]))"
   ]
  },
  {
   "cell_type": "code",
   "execution_count": 79,
   "metadata": {},
   "outputs": [
    {
     "name": "stdout",
     "output_type": "stream",
     "text": [
      "[ 1.00000000e+00  1.00000000e+00  8.25483036e+00  5.30036569e+00\n",
      "  3.54987916e+01 -1.81633077e+02 -1.92856759e+03 -1.12170174e+04]\n",
      "[[   1.        ]\n",
      " [   1.        ]\n",
      " [   8.25483036]\n",
      " [   5.30036562]\n",
      " [  35.49878869]\n",
      " [-181.63316277]]\n"
     ]
    }
   ],
   "source": [
    "s = [1,1]\n",
    "print(psi_RK(s))\n",
    "NKoopman = 6 \n",
    "print(Psi_k(s))"
   ]
  },
  {
   "cell_type": "code",
   "execution_count": 95,
   "metadata": {},
   "outputs": [],
   "source": [
    "s = [2, 2]\n",
    "state_K2 = []\n",
    "state_K = []\n",
    "state_RK = []\n",
    "NKoopman = 4\n",
    "p = Psi_k(s)\n",
    "for i in range(50):\n",
    "    p = dot(Kd, p)\n",
    "    state_K += [p[:2]]\n",
    "NKoopman = 6    \n",
    "p = Psi_k(s)\n",
    "for i in range(50):\n",
    "    p = dot(Kd2, p)\n",
    "    state_K2 += [p[:2]]\n",
    "NKoopman = 8   \n",
    "p = psi_RK(s)\n",
    "for i in range(50):\n",
    "    p = dot(KdRK, p)\n",
    "    state_RK += [p[:2]]\n",
    "state_nK2 = []\n",
    "sn = s\n",
    "for i in range(50):\n",
    "    sn = odeint(single_pendulum, sn, [0, ts])\n",
    "    sn = sn[-1,:]\n",
    "    state_nK2 += [sn]\n",
    "    \n",
    "K2 = np.array(state_K2)\n",
    "K = np.array(state_K)\n",
    "RK = np.array(state_RK)"
   ]
  },
  {
   "cell_type": "code",
   "execution_count": 96,
   "metadata": {},
   "outputs": [
    {
     "data": {
      "text/plain": [
       "array([2.04177266, 2.08704103, 2.13572083, 2.18771365, 2.24290563,\n",
       "       2.30116635, 2.36234766, 2.4262828 , 2.49278552, 2.56164949,\n",
       "       2.63264786, 2.70553306, 2.78003682, 2.85587045, 2.93272541,\n",
       "       3.01027415, 3.08817118, 3.16605454, 3.2435474 , 3.32026008,\n",
       "       3.39579229, 3.46973554, 3.54167594, 3.61119713, 3.67788338,\n",
       "       3.74132296, 3.80111154, 3.8568558 , 3.908177  , 3.95471471,\n",
       "       3.99613045, 4.03211131, 4.06237351, 4.08666582, 4.10477284,\n",
       "       4.11651803, 4.12176657, 4.12042789, 4.1124579 , 4.09786089,\n",
       "       4.07669105, 4.04905355, 4.0151053 , 3.97505509, 3.92916348,\n",
       "       3.87774204, 3.82115219, 3.7598036 , 3.69415202, 3.62469671])"
      ]
     },
     "execution_count": 96,
     "metadata": {},
     "output_type": "execute_result"
    }
   ],
   "source": [
    "RK.T[0]"
   ]
  },
  {
   "cell_type": "code",
   "execution_count": 97,
   "metadata": {},
   "outputs": [
    {
     "data": {
      "text/plain": [
       "[<matplotlib.lines.Line2D at 0x23c4be8c6a0>]"
      ]
     },
     "execution_count": 97,
     "metadata": {},
     "output_type": "execute_result"
    },
    {
     "data": {
      "image/png": "[encoded data removed]",
      "text/plain": [
       "<Figure size 432x288 with 1 Axes>"
      ]
     },
     "metadata": {
      "needs_background": "light"
     },
     "output_type": "display_data"
    }
   ],
   "source": [
    "plt.plot(K.T[0][0],K.T[0][1], 'b')\n",
    "plt.plot(K2.T[0][0],K2.T[0][1], 'y')\n",
    "plt.plot(RK.T[0],RK.T[1], 'g')\n",
    "\n",
    "plt.plot(np.array(state_nK2).T[0], np.array(state_nK2).T[1], '.')"
   ]
  },
  {
   "cell_type": "code",
   "execution_count": null,
   "metadata": {},
   "outputs": [],
   "source": [
    "state"
   ]
  },
  {
   "cell_type": "code",
   "execution_count": 46,
   "metadata": {},
   "outputs": [
    {
     "name": "stdout",
     "output_type": "stream",
     "text": [
      "[0.02001308 1.00196258]\n"
     ]
    }
   ],
   "source": [
    "sn = odeint(single_pendulum, s, [0, ts])\n",
    "print(sn[-1,:])"
   ]
  },
  {
   "cell_type": "code",
   "execution_count": 47,
   "metadata": {},
   "outputs": [
    {
     "name": "stdout",
     "output_type": "stream",
     "text": [
      "[[0.02001097]\n",
      " [1.00175093]\n",
      " [0.19597092]\n",
      " [9.77105935]]\n"
     ]
    }
   ],
   "source": [
    "sn = dot(Kd, Psi_k(s))\n",
    "print(sn)"
   ]
  },
  {
   "cell_type": "code",
   "execution_count": 66,
   "metadata": {},
   "outputs": [
    {
     "data": {
      "text/plain": [
       "-181.63316277383535"
      ]
     },
     "execution_count": 66,
     "metadata": {},
     "output_type": "execute_result"
    }
   ],
   "source": [
    "theta, dtheta = 1,1 \n",
    "- g/l * cos(theta) * dtheta **3  - 2*(g/l)**2 * sin(theta)**2 * dtheta + (g/l)**2 * cos(2*theta)*dtheta\n",
    "        "
   ]
  },
  {
   "cell_type": "code",
   "execution_count": null,
   "metadata": {},
   "outputs": [],
   "source": []
  }
 ],
 "metadata": {
  "kernelspec": {
   "display_name": "Python 3",
   "language": "python",
   "name": "python3"
  },
  "language_info": {
   "codemirror_mode": {
    "name": "ipython",
    "version": 3
   },
   "file_extension": ".py",
   "mimetype": "text/x-python",
   "name": "python",
   "nbconvert_exporter": "python",
   "pygments_lexer": "ipython3",
   "version": "3.8.5"
  }
 },
 "nbformat": 4,
 "nbformat_minor": 4
}
