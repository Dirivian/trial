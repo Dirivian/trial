{
 "cells": [
  {
   "cell_type": "code",
   "execution_count": 57,
   "metadata": {},
   "outputs": [],
   "source": [
    "import pandas as pd\n",
    "import numpy as np\n",
    "\n",
    "file_errors_location = 'cmu250_keywords_cleaned.csv'\n",
    "df2 = pd.read_csv(file_errors_location)\n",
    "\n",
    "import re\n",
    "\n",
    "def keyword_count(keyword, text):\n",
    "    return len(re.compile(r'\\b({0})\\b'.format(keyword), flags=re.IGNORECASE).findall(text))\n",
    "\n",
    "\n",
    "def sdg_scores(text):\n",
    "    scores =[]\n",
    "    for i in range(17):\n",
    "\n",
    "        sdg_num = i+1\n",
    "        keyword_list = list(df2[df2['goal'] == sdg_num]['keyword'])\n",
    "        weight_list = np.array(df2[df2['goal'] == sdg_num]['weight'])\n",
    "\n",
    "        keyword_count_list= np.array([keyword_count(keyword, text)for keyword in keyword_list])\n",
    "        scores += [np.sum(keyword_count_list*weight_list)]\n",
    "    scores = np.array(scores)\n",
    "    return scores\n",
    "\n",
    "def do_this(input_file_loc, parameters):\n",
    "    print(input_file_loc)\n",
    "    proportion_of_max_scores, minimum_score = parameters\n",
    "    df3 = pd.read_excel(input_file_loc, engine = 'openpyxl',index_col =0)\n",
    "    new_df = df3.copy()\n",
    "    new_df = new_df.dropna(how ='all')\n",
    "    descriptions = new_df['Course Description']\n",
    "    long_titles = new_df['Long Title']\n",
    "    sdg_1 = np.zeros(len(descriptions))\n",
    "    sdg_2 = np.zeros(len(descriptions))\n",
    "    sdg_3 = np.zeros(len(descriptions))\n",
    "    sdg_4 = np.zeros(len(descriptions))\n",
    "    sdg_5 = np.zeros(len(descriptions))\n",
    "    sdg_6 = np.zeros(len(descriptions))\n",
    "    sdg_7 = np.zeros(len(descriptions))\n",
    "    sdg_8 = np.zeros(len(descriptions))\n",
    "    sdg_9 = np.zeros(len(descriptions))\n",
    "    sdg_10 = np.zeros(len(descriptions))\n",
    "    sdg_11 = np.zeros(len(descriptions))\n",
    "    sdg_12 = np.zeros(len(descriptions))\n",
    "    sdg_13 = np.zeros(len(descriptions))\n",
    "    sdg_14 = np.zeros(len(descriptions))\n",
    "    sdg_15 = np.zeros(len(descriptions))\n",
    "    sdg_16 = np.zeros(len(descriptions))\n",
    "    sdg_17 = np.zeros(len(descriptions))\n",
    "    sdg_list = [sdg_1, sdg_2, sdg_3, sdg_4, sdg_5, sdg_6, sdg_7, sdg_8, sdg_9, sdg_10, sdg_11, sdg_12, sdg_13, sdg_14, sdg_15, sdg_16, sdg_17 ]\n",
    "    notes = []\n",
    "    sdg_titles = ['SDG01 - No Poverty', 'SDG02 - Zero Hunger',\n",
    "           'SDG03 - Good Health and Well-being', 'SDG04 - Quality Education',\n",
    "           'SDG05 - Gender Equality', 'SDG06 - Clean Water and Sanitation',\n",
    "           'SDG07 - Affordable and Clean Energy',\n",
    "           'SDG08 - Decent Work & Economic Growth',\n",
    "           'SDG09 - Innovation & Infrastructure', 'SDG10 - Reduced Inequality',\n",
    "           'SDG11 - Sustainable Cities&Communities',\n",
    "           'SDG12 - Responsible Consumption', 'SDG13 - Climate Action',\n",
    "           'SDG14 - Life Below Water', 'SDG15 - Life On Land',\n",
    "           'SDG16 - Peace & Justice', 'SDG17 - Partnerships']\n",
    "    i = 0\n",
    "    for description in descriptions:\n",
    "        title = long_titles.iat[i]\n",
    "        if pd.isna(title):\n",
    "            break\n",
    "        description += ' '+ title\n",
    "        if pd.isna(description):\n",
    "            break\n",
    "        scores = sdg_scores(description)\n",
    "        scores[np.where(scores < proportion_of_max_scores*max(scores))] = 0\n",
    "        note = 'Related SDGs:  '\n",
    "        for j, score in enumerate(scores):\n",
    "            if score > minimum_score:\n",
    "                sdg_list[j][i] = score\n",
    "                note += str(sdg_titles[j])+', '\n",
    "        notes += [note[:-2]]\n",
    "        i += 1\n",
    "    new_df['Notes'] = notes\n",
    "    i = 0 \n",
    "    for title in sdg_titles:\n",
    "        new_df[title] = sdg_list[i]\n",
    "        i += 1\n",
    "\n",
    "    new_df.to_excel('output.xlsx')\n",
    "\n"
   ]
  },
  {
   "cell_type": "code",
   "execution_count": 58,
   "metadata": {},
   "outputs": [
    {
     "name": "stdout",
     "output_type": "stream",
     "text": [
      "request.xlsx\n"
     ]
    }
   ],
   "source": [
    "proportion_of_max_scores = 0.1\n",
    "minimum_score= 0.5\n",
    "\n",
    "do_this('request.xlsx', [proportion_of_max_scores, minimum_score]) "
   ]
  },
  {
   "cell_type": "code",
   "execution_count": null,
   "metadata": {},
   "outputs": [],
   "source": [
    "0.33  0.    0.    0.    0.   24.31  0.38  1.68  0.    0.    0.    4.24\n",
    "  2.54  3.46  2.55  1.06  0.  "
   ]
  },
  {
   "cell_type": "code",
   "execution_count": null,
   "metadata": {},
   "outputs": [],
   "source": [
    "0.33  0.    0.    0.    0.   23.84  0.    0.    0.    0.    0.    1.21\n",
    "  0.    3.07  0.76  1.06  0."
   ]
  },
  {
   "cell_type": "code",
   "execution_count": 41,
   "metadata": {},
   "outputs": [],
   "source": [
    "df3 = pd.read_excel('request.xlsx', engine = 'openpyxl',index_col =0)\n",
    "new_df = df3.copy()\n",
    "new_df = new_df.dropna(how ='all')\n",
    "descriptions = new_df['Course Description']\n",
    "long_titles = new_df['Long Title']"
   ]
  },
  {
   "cell_type": "code",
   "execution_count": 45,
   "metadata": {},
   "outputs": [
    {
     "data": {
      "text/plain": [
       "'Native American Environmental Issues and the Media'"
      ]
     },
     "execution_count": 45,
     "metadata": {},
     "output_type": "execute_result"
    }
   ],
   "source": []
  },
  {
   "cell_type": "code",
   "execution_count": 20,
   "metadata": {},
   "outputs": [
    {
     "data": {
      "text/plain": [
       "array([0.  , 0.  , 0.  , 0.13, 0.  , 0.  , 0.  , 0.  , 0.  , 0.  , 0.  ,\n",
       "       0.  , 0.  , 0.  , 0.  , 4.41, 0.  ])"
      ]
     },
     "execution_count": 20,
     "metadata": {},
     "output_type": "execute_result"
    }
   ],
   "source": [
    "sdg_scores('journalist journalism journalists student students')"
   ]
  },
  {
   "cell_type": "code",
   "execution_count": 22,
   "metadata": {},
   "outputs": [
    {
     "data": {
      "text/plain": [
       "4.41"
      ]
     },
     "execution_count": 22,
     "metadata": {},
     "output_type": "execute_result"
    }
   ],
   "source": [
    "1.47*3"
   ]
  },
  {
   "cell_type": "code",
   "execution_count": null,
   "metadata": {},
   "outputs": [],
   "source": []
  }
 ],
 "metadata": {
  "kernelspec": {
   "display_name": "Python 3",
   "language": "python",
   "name": "python3"
  },
  "language_info": {
   "codemirror_mode": {
    "name": "ipython",
    "version": 3
   },
   "file_extension": ".py",
   "mimetype": "text/x-python",
   "name": "python",
   "nbconvert_exporter": "python",
   "pygments_lexer": "ipython3",
   "version": "3.8.5"
  }
 },
 "nbformat": 4,
 "nbformat_minor": 4
}
